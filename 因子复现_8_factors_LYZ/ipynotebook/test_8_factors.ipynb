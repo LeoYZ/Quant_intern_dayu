{
 "cells": [
  {
   "cell_type": "code",
   "execution_count": 1,
   "metadata": {
    "collapsed": true
   },
   "outputs": [],
   "source": [
    "import  pandas as pd"
   ]
  },
  {
   "cell_type": "code",
   "execution_count": 2,
   "metadata": {},
   "outputs": [
    {
     "name": "stderr",
     "output_type": "stream",
     "text": [
      "E:\\anaconda36\\lib\\importlib\\__init__.py:126: FutureWarning: The pandas.core.datetools module is deprecated and will be removed in a future version. Please use the pandas.tseries module instead.\n",
      "  return _bootstrap._gcd_import(name[level:], package, level)\n",
      "E:\\anaconda36\\lib\\site-packages\\jaqs\\research\\signaldigger\\plotting.py:10: UserWarning: \n",
      "This call to matplotlib.use() has no effect because the backend has already\n",
      "been chosen; matplotlib.use() must be called *before* pylab, matplotlib.pyplot,\n",
      "or matplotlib.backends is imported for the first time.\n",
      "\n",
      "The backend was *originally* set to 'module://ipykernel.pylab.backend_inline' by the following code:\n",
      "  File \"E:\\anaconda36\\lib\\runpy.py\", line 193, in _run_module_as_main\n",
      "    \"__main__\", mod_spec)\n",
      "  File \"E:\\anaconda36\\lib\\runpy.py\", line 85, in _run_code\n",
      "    exec(code, run_globals)\n",
      "  File \"E:\\anaconda36\\lib\\site-packages\\ipykernel_launcher.py\", line 16, in <module>\n",
      "    app.launch_new_instance()\n",
      "  File \"E:\\anaconda36\\lib\\site-packages\\traitlets\\config\\application.py\", line 658, in launch_instance\n",
      "    app.start()\n",
      "  File \"E:\\anaconda36\\lib\\site-packages\\ipykernel\\kernelapp.py\", line 477, in start\n",
      "    ioloop.IOLoop.instance().start()\n",
      "  File \"E:\\anaconda36\\lib\\site-packages\\zmq\\eventloop\\ioloop.py\", line 177, in start\n",
      "    super(ZMQIOLoop, self).start()\n",
      "  File \"E:\\anaconda36\\lib\\site-packages\\tornado\\ioloop.py\", line 888, in start\n",
      "    handler_func(fd_obj, events)\n",
      "  File \"E:\\anaconda36\\lib\\site-packages\\tornado\\stack_context.py\", line 277, in null_wrapper\n",
      "    return fn(*args, **kwargs)\n",
      "  File \"E:\\anaconda36\\lib\\site-packages\\zmq\\eventloop\\zmqstream.py\", line 440, in _handle_events\n",
      "    self._handle_recv()\n",
      "  File \"E:\\anaconda36\\lib\\site-packages\\zmq\\eventloop\\zmqstream.py\", line 472, in _handle_recv\n",
      "    self._run_callback(callback, msg)\n",
      "  File \"E:\\anaconda36\\lib\\site-packages\\zmq\\eventloop\\zmqstream.py\", line 414, in _run_callback\n",
      "    callback(*args, **kwargs)\n",
      "  File \"E:\\anaconda36\\lib\\site-packages\\tornado\\stack_context.py\", line 277, in null_wrapper\n",
      "    return fn(*args, **kwargs)\n",
      "  File \"E:\\anaconda36\\lib\\site-packages\\ipykernel\\kernelbase.py\", line 283, in dispatcher\n",
      "    return self.dispatch_shell(stream, msg)\n",
      "  File \"E:\\anaconda36\\lib\\site-packages\\ipykernel\\kernelbase.py\", line 235, in dispatch_shell\n",
      "    handler(stream, idents, msg)\n",
      "  File \"E:\\anaconda36\\lib\\site-packages\\ipykernel\\kernelbase.py\", line 399, in execute_request\n",
      "    user_expressions, allow_stdin)\n",
      "  File \"E:\\anaconda36\\lib\\site-packages\\ipykernel\\ipkernel.py\", line 196, in do_execute\n",
      "    res = shell.run_cell(code, store_history=store_history, silent=silent)\n",
      "  File \"E:\\anaconda36\\lib\\site-packages\\ipykernel\\zmqshell.py\", line 533, in run_cell\n",
      "    return super(ZMQInteractiveShell, self).run_cell(*args, **kwargs)\n",
      "  File \"E:\\anaconda36\\lib\\site-packages\\IPython\\core\\interactiveshell.py\", line 2698, in run_cell\n",
      "    interactivity=interactivity, compiler=compiler, result=result)\n",
      "  File \"E:\\anaconda36\\lib\\site-packages\\IPython\\core\\interactiveshell.py\", line 2802, in run_ast_nodes\n",
      "    if self.run_code(code, result):\n",
      "  File \"E:\\anaconda36\\lib\\site-packages\\IPython\\core\\interactiveshell.py\", line 2862, in run_code\n",
      "    exec(code_obj, self.user_global_ns, self.user_ns)\n",
      "  File \"<ipython-input-2-14e44d328f2b>\", line 31, in <module>\n",
      "    dv = get_dv()\n",
      "  File \"<ipython-input-2-14e44d328f2b>\", line 2, in get_dv\n",
      "    import jaqs_fxdayu\n",
      "  File \"E:\\anaconda36\\lib\\site-packages\\jaqs_fxdayu\\__init__.py\", line 4, in <module>\n",
      "    import matplotlib.pyplot  # 防止被JAQS重载\n",
      "  File \"E:\\anaconda36\\lib\\site-packages\\matplotlib\\pyplot.py\", line 72, in <module>\n",
      "    from matplotlib.backends import pylab_setup\n",
      "  File \"E:\\anaconda36\\lib\\site-packages\\matplotlib\\backends\\__init__.py\", line 14, in <module>\n",
      "    line for line in traceback.format_stack()\n",
      "\n",
      "\n",
      "  mpl.use('Agg')\n"
     ]
    },
    {
     "name": "stdout",
     "output_type": "stream",
     "text": [
      "Field name [{'alpha109', 'alpha13', 'alpha132', 'alpha39', 'alpha131', 'alpha169'}] not valid, ignore.\n",
      "Initialize config success.\n",
      "Query data...\n",
      "Query data - query...\n",
      "NOTE: price adjust method is [post adjust]\n",
      "当前请求daily...\n",
      "{'adjust_mode': None, 'fields': 'turnover,high_adj,low,vwap_adj,low_adj,close_adj,open,symbol,open_adj,trade_status,trade_date,high,close,vwap'}\n",
      "当前请求daily...\n",
      "{'adjust_mode': 'post', 'fields': 'low,open,high,close,vwap,symbol,trade_date'}\n",
      "当前请求query_lb_dailyindicator...\n",
      "{'fields': 'trade_date,symbol,ncf_oper_ttm'}\n",
      "当前请求query...\n",
      "{'fields': 'EquityTRate,PCF', 'view': 'factor'}\n",
      "WARNING: some data is unavailable: \n",
      "    At fields 000748.SZ, 600005.SH\n",
      "Query data - daily fields prepared.\n",
      "WARNING: some data is unavailable: \n",
      "    At fields 000748.SZ, 600005.SH\n",
      "Query data - quarterly fields prepared.\n",
      "Query instrument info...\n",
      "Query adj_factor...\n",
      "Data has been successfully prepared.\n"
     ]
    }
   ],
   "source": [
    "def get_dv(start = 20170101, end = 20180101):\n",
    "    import jaqs_fxdayu\n",
    "    jaqs_fxdayu.patch_all()\n",
    "    from jaqs.data import DataView\n",
    "    from jaqs_fxdayu.data.dataservice import LocalDataService\n",
    "    \n",
    "    import warnings\n",
    "    warnings.filterwarnings(\"ignore\")\n",
    "    \n",
    "    factor_list = ['alpha13','alpha39', 'alpha109', 'alpha131', 'alpha132', 'alpha169', 'EquityTRate', 'PCF',\n",
    "                  'turnover', 'oper_rev', 'tot_assets', 'total_liab', 'capital_stk', 'ncf_oper_ttm']\n",
    "    check_factor = ','.join(factor_list)\n",
    "    \n",
    "    dataview_folder = r'E:\\Quant\\fxdayu\\Git\\data'\n",
    "    ds = LocalDataService(fp = dataview_folder)\n",
    "    \n",
    "    ZZ800_id = ds.query_index_member('000906.SH', start, end)\n",
    "    stock_symbol = list(set(ZZ800_id))\n",
    "    \n",
    "    dv_props = {'start_date': start, 'end_date': end, 'symbol':','.join(stock_symbol),\n",
    "                'fields': check_factor,\n",
    "                 'freq': 1,\n",
    "                 'prepare_fields': True}\n",
    "    \n",
    "    dv = DataView()\n",
    "    dv.init_from_config(dv_props, data_api=ds)\n",
    "    dv.prepare_data()\n",
    "    return dv\n",
    "\n",
    "if 'dv' not in dir():\n",
    "    dv = get_dv()\n"
   ]
  },
  {
   "cell_type": "code",
   "execution_count": 3,
   "metadata": {
    "collapsed": true
   },
   "outputs": [],
   "source": [
    "def test(factor, data):\n",
    "    if not isinstance(data, pd.core.frame.DataFrame):\n",
    "        raise TypeError('On factor {}, output must be a pandas.DataFrame!'.format(factor))\n",
    "    else:\n",
    "        try:\n",
    "            index_name = data.index.names[0]\n",
    "            columns_name = data.columns.names[0]  \n",
    "        except:\n",
    "            if not (index_name in ['trade_date', 'report_date'] and columns_name == 'symbol'):\n",
    "                raise NameError('''Error index name, index name must in [\"trade_date\", \"report_date\"], columns name must be \"symbol\"''')\n",
    "                \n",
    "        index_dtype = data.index.dtype_str\n",
    "        columns_dtype = data.columns.dtype_str\n",
    "         \n",
    "        if columns_dtype not in ['object', 'str']:\n",
    "            raise TypeError('error columns type')\n",
    "        \n",
    "        if index_dtype not in ['int32','int64','int']:\n",
    "            raise TypeError('error index type')\n",
    "        \n",
    "        print ('{} OK!'.format(factor))"
   ]
  },
  {
   "cell_type": "code",
   "execution_count": 4,
   "metadata": {},
   "outputs": [
    {
     "name": "stdout",
     "output_type": "stream",
     "text": [
      "alpha13 OK!\n"
     ]
    }
   ],
   "source": [
    "from alpha13 import alpha13\n",
    "\n",
    "test('alpha13',globals()['alpha13'](dv))"
   ]
  },
  {
   "cell_type": "code",
   "execution_count": 5,
   "metadata": {},
   "outputs": [
    {
     "name": "stdout",
     "output_type": "stream",
     "text": [
      "Variable [volume] is not recognized (it may be wrong),try to fetch from the server...\n",
      "Query data - query...\n",
      "NOTE: price adjust method is [post adjust]\n",
      "当前请求daily...\n",
      "{'adjust_mode': None, 'fields': 'trade_status,volume,symbol,trade_date'}\n",
      "WARNING: some data is unavailable: \n",
      "    At fields 000748.SZ, 600005.SH\n",
      "Query data - daily fields prepared.\n",
      "alpha39 OK!\n"
     ]
    }
   ],
   "source": [
    "from alpha39 import alpha39\n",
    "\n",
    "test('alpha39',globals()['alpha39'](dv))"
   ]
  },
  {
   "cell_type": "code",
   "execution_count": 6,
   "metadata": {},
   "outputs": [
    {
     "name": "stdout",
     "output_type": "stream",
     "text": [
      "alpha109 OK!\n"
     ]
    }
   ],
   "source": [
    "from alpha109 import alpha109\n",
    "\n",
    "test('alpha109',globals()['alpha109'](dv))"
   ]
  },
  {
   "cell_type": "code",
   "execution_count": 7,
   "metadata": {},
   "outputs": [
    {
     "name": "stdout",
     "output_type": "stream",
     "text": [
      "alpha131 OK!\n"
     ]
    }
   ],
   "source": [
    "from alpha131 import alpha131\n",
    "\n",
    "test('alpha131',globals()['alpha131'](dv))"
   ]
  },
  {
   "cell_type": "code",
   "execution_count": 8,
   "metadata": {},
   "outputs": [
    {
     "name": "stdout",
     "output_type": "stream",
     "text": [
      "alpha169 OK!\n"
     ]
    }
   ],
   "source": [
    "from alpha169 import alpha169\n",
    "\n",
    "test('alpha169',globals()['alpha169'](dv))"
   ]
  },
  {
   "cell_type": "code",
   "execution_count": 9,
   "metadata": {},
   "outputs": [
    {
     "name": "stdout",
     "output_type": "stream",
     "text": [
      "alpha132 OK!\n"
     ]
    }
   ],
   "source": [
    "from alpha132 import alpha132\n",
    "\n",
    "test('alpha132',globals()['alpha132'](dv))"
   ]
  },
  {
   "cell_type": "code",
   "execution_count": 10,
   "metadata": {},
   "outputs": [
    {
     "name": "stdout",
     "output_type": "stream",
     "text": [
      "EquityTRate OK!\n"
     ]
    }
   ],
   "source": [
    "from EquityTRate import EquityTRate\n",
    "\n",
    "test('EquityTRate',globals()['EquityTRate'](dv))"
   ]
  },
  {
   "cell_type": "code",
   "execution_count": 11,
   "metadata": {},
   "outputs": [
    {
     "name": "stdout",
     "output_type": "stream",
     "text": [
      "PCF OK!\n"
     ]
    }
   ],
   "source": [
    "from PCF import PCF\n",
    "\n",
    "test('PCF',globals()['PCF'](dv))"
   ]
  }
 ],
 "metadata": {
  "kernelspec": {
   "display_name": "Python 3",
   "language": "python",
   "name": "python3"
  },
  "language_info": {
   "codemirror_mode": {
    "name": "ipython",
    "version": 3
   },
   "file_extension": ".py",
   "mimetype": "text/x-python",
   "name": "python",
   "nbconvert_exporter": "python",
   "pygments_lexer": "ipython3",
   "version": "3.6.3"
  }
 },
 "nbformat": 4,
 "nbformat_minor": 2
}
